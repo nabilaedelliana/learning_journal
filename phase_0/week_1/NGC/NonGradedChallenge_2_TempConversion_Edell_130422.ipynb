{
  "nbformat": 4,
  "nbformat_minor": 0,
  "metadata": {
    "colab": {
      "name": "NonGradedChallenge_2_TempConversion_Edell_130422.ipynb",
      "provenance": [],
      "collapsed_sections": []
    },
    "kernelspec": {
      "name": "python3",
      "display_name": "Python 3"
    },
    "language_info": {
      "name": "python"
    }
  },
  "cells": [
    {
      "cell_type": "code",
      "execution_count": 24,
      "metadata": {
        "colab": {
          "base_uri": "https://localhost:8080/"
        },
        "id": "EdcrHisyLk4g",
        "outputId": "39ecc892-b96a-4997-82c5-f8b93093adbc"
      },
      "outputs": [
        {
          "output_type": "stream",
          "name": "stdout",
          "text": [
            "Masukkan suhu yang ingin Anda konversi (contoh: 25C, 300K dll.) -> 318K\n",
            "Suhu pada satuan Celsius adalah 45 .\n"
          ]
        }
      ],
      "source": [
        "#SOAL 1. Konversi suhu Kelvin ke Celcius dan sebaliknya.\n",
        "\n",
        "#membuat kotak untuk input suhu\n",
        "suhu = input(\"Masukkan suhu yang ingin Anda konversi (contoh: 25C, 300K dll.) -> \")\n",
        "#membuat variabel nilai suhu, dengan list yaitu semua angka di indeks sebelum karakter terakhir\n",
        "derajat = int(suhu[:-1])\n",
        "#membuat variabel satuan suhu yang terletak pada indeks terakhir\n",
        "satuan_suhu = suhu[-1]\n",
        "\n",
        "#membuat kondisi jika satuan yang diinput adalah C (Celcius) yang akan dikonversi ke Kelvin\n",
        "if satuan_suhu.upper() == \"C\": #C adalah parameter identitas celcius\n",
        "  hasil = int(round(derajat + 273))\n",
        "  nama_suhu = \"Kelvin\"\n",
        "#membuat kondisi jika satuan yang diinput adalah K (Kelvin) yang akan dikonversi ke Celcius\n",
        "elif satuan_suhu.upper() == \"K\": #K adalah parameter identitas kelvin\n",
        "  hasil = int(round(derajat - 273))\n",
        "  nama_suhu = \"Celsius\"\n",
        "#membuat kondisi jika data yang diinput tidak sesuai\n",
        "else:\n",
        "  print(\"Input anda salah.\")\n",
        "  quit()\n",
        "\n",
        "#membuat perintah output\n",
        "print(\"Suhu pada satuan\", nama_suhu, \"adalah\", hasil,\".\")"
      ]
    },
    {
      "cell_type": "code",
      "source": [
        "#SOAL 2. Konversi suhu Celcius atau Kelvin ke Fahrenheit\n",
        "\n",
        "#membuat kotak untuk input suhu\n",
        "suhu = input(\"Masukkan suhu yang ingin Anda konversi (contoh: 25C, 300K etc.) -> \")\n",
        "#membuat variabel nilai suhu, dengan list yaitu semua angka di indeks sebelum karakter terakhir\n",
        "derajat = int(suhu[:-1])\n",
        "#membuat variabel satuan suhu yang terletak pada indeks terakhir\n",
        "satuan_suhu = suhu[-1]\n",
        "\n",
        "#membuat kondisi jika satuan yang diinput adalah C (Celcius) yang akan dikonversi ke Fahrenheit\n",
        "if satuan_suhu.upper() == \"C\": #C adalah parameter identitas celcius\n",
        "  hasil = int(round((9 * derajat) / 5 + 32))\n",
        "  nama_suhu = \"Fahrenheit\"\n",
        "#membuat kondisi jika satuan yang diinput adalah K (Kelvin) yang akan dikonversi ke Fahrenheit\n",
        "elif satuan_suhu.upper() == \"K\": #K adalah parameter identitas kelvin\n",
        "  hasil = int(round((9 * derajat) / 5 ) - 459.67)\n",
        "  nama_suhu = \"Fahrenheit\"\n",
        "#membuat kondisi jika data yang diinput tidak sesuai\n",
        "else:\n",
        "  print(\"Input anda salah.\")\n",
        "  quit()\n",
        "#membuat perintah output\n",
        "print(\"Suhu pada satuan\", nama_suhu, \"adalah\", hasil,\".\")"
      ],
      "metadata": {
        "colab": {
          "base_uri": "https://localhost:8080/"
        },
        "id": "8OP2X92tSWhN",
        "outputId": "0824b5bb-152d-42ed-cd43-a7db56af0add"
      },
      "execution_count": 30,
      "outputs": [
        {
          "output_type": "stream",
          "name": "stdout",
          "text": [
            "Masukkan suhu yang ingin Anda konversi (contoh: 25C, 300K etc.) -> 318K\n",
            "Suhu pada satuan Fahrenheit adalah 112 .\n"
          ]
        }
      ]
    },
    {
      "cell_type": "code",
      "source": [
        "#SOAL 3. Konversi suhu dari Fahrenheit ke Celcius dan Kelvin\n",
        "\n",
        "#membuat kotak untuk input suhu\n",
        "suhu = input(\"Masukkan suhu yang ingin Anda konversi (contoh: 30F) -> \")\n",
        "#membuat variabel nilai suhu, dengan list yaitu semua angka di indeks sebelum karakter terakhir\n",
        "derajat = int(suhu[:-1])\n",
        "#membuat variabel satuan suhu yang terletak pada indeks terakhir\n",
        "satuan_suhu = suhu[-1]\n",
        "\n",
        "\n",
        "#membuat kondisi jika satuan yang diinput adalah F (Fahrenheit) yang akan dikonversi ke Celcius dan Kelvin\n",
        "if satuan_suhu.upper() == \"F\": #F adalah parameter identitas fahrenheit\n",
        "  hasilC = int(round((derajat - 32) * (5/ 9)))\n",
        "  nama_suhuC = \"Celcius\"\n",
        "  hasilK = int(round((derajat + 459.67) * (5 / 9)))\n",
        "  nama_suhuK = \"Kelvin\"\n",
        "#membuat kondisi jika data yang diinput tidak sesuai\n",
        "else:\n",
        "  print(\"Input anda salah.\")\n",
        "  quit()\n",
        "\n",
        "#membuat perintah output\n",
        "print(\"Suhu pada satuan\", nama_suhuC, \"adalah\", hasilC, \"dan pada satuan\",nama_suhuK,\"adalah\",hasilK,\".\")"
      ],
      "metadata": {
        "colab": {
          "base_uri": "https://localhost:8080/"
        },
        "id": "loYQ3qS9RtfD",
        "outputId": "912f0156-0957-49e7-cd5a-fce0b287c8cc"
      },
      "execution_count": 27,
      "outputs": [
        {
          "output_type": "stream",
          "name": "stdout",
          "text": [
            "Masukkan suhu yang ingin Anda konversi (contoh: 30F) -> 113F\n",
            "Suhu pada satuan Celcius adalah 45 dan pada satuan Kelvin adalah 318 .\n"
          ]
        }
      ]
    }
  ]
}