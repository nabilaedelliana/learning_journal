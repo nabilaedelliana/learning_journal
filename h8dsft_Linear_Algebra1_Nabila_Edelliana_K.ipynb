{
  "nbformat": 4,
  "nbformat_minor": 0,
  "metadata": {
    "colab": {
      "name": "h8dsft_Linear_Algebra1_Nabila Edelliana K.ipynb",
      "provenance": []
    },
    "kernelspec": {
      "name": "python3",
      "display_name": "Python 3"
    },
    "language_info": {
      "name": "python"
    }
  },
  "cells": [
    {
      "cell_type": "code",
      "source": [
        "import numpy as np\n",
        "import matplotlib.pyplot as plt"
      ],
      "metadata": {
        "id": "20QMIq6aoIwF"
      },
      "execution_count": 2,
      "outputs": []
    },
    {
      "cell_type": "markdown",
      "source": [
        "# Soal 1."
      ],
      "metadata": {
        "id": "8ZXl4BzwoRFc"
      }
    },
    {
      "cell_type": "markdown",
      "source": [
        ""
      ],
      "metadata": {
        "id": "2BtN2qFlob2S"
      }
    },
    {
      "cell_type": "code",
      "execution_count": 3,
      "metadata": {
        "colab": {
          "base_uri": "https://localhost:8080/"
        },
        "id": "nWt73Wvwn9x_",
        "outputId": "315c7ffb-f77d-453a-a32d-0b17a44aec47"
      },
      "outputs": [
        {
          "output_type": "execute_result",
          "data": {
            "text/plain": [
              "array([17, 22, 19])"
            ]
          },
          "metadata": {},
          "execution_count": 3
        }
      ],
      "source": [
        "np.array([17,22,19])"
      ]
    },
    {
      "cell_type": "markdown",
      "source": [
        "# Soal 2"
      ],
      "metadata": {
        "id": "cMZfLtzboafb"
      }
    },
    {
      "cell_type": "code",
      "source": [
        "# Mendefinisikan vektor\n",
        "A = np.array([17,22,19])\n",
        "B = np.array([10,20,11])\n",
        "C = np.array([5,12,9])\n",
        "print(A, B, C)"
      ],
      "metadata": {
        "colab": {
          "base_uri": "https://localhost:8080/"
        },
        "id": "JxVkIpaLoZ3r",
        "outputId": "1cb0cec4-8a74-4a0a-d236-d4d0183f4ad9"
      },
      "execution_count": 5,
      "outputs": [
        {
          "output_type": "stream",
          "name": "stdout",
          "text": [
            "[17 22 19] [10 20 11] [ 5 12  9]\n"
          ]
        }
      ]
    },
    {
      "cell_type": "code",
      "source": [
        "A + B"
      ],
      "metadata": {
        "colab": {
          "base_uri": "https://localhost:8080/"
        },
        "id": "7NSmtGHQo4Ni",
        "outputId": "f6551181-1c8b-4c78-ed1f-7bd4bb0a5058"
      },
      "execution_count": 6,
      "outputs": [
        {
          "output_type": "execute_result",
          "data": {
            "text/plain": [
              "array([27, 42, 30])"
            ]
          },
          "metadata": {},
          "execution_count": 6
        }
      ]
    },
    {
      "cell_type": "code",
      "source": [
        "B - C"
      ],
      "metadata": {
        "colab": {
          "base_uri": "https://localhost:8080/"
        },
        "id": "dyOeLcc4o7JK",
        "outputId": "19b441e0-ffa7-4b8d-8d8e-e81b37cf0612"
      },
      "execution_count": 7,
      "outputs": [
        {
          "output_type": "execute_result",
          "data": {
            "text/plain": [
              "array([5, 8, 2])"
            ]
          },
          "metadata": {},
          "execution_count": 7
        }
      ]
    },
    {
      "cell_type": "code",
      "source": [
        "A @ C"
      ],
      "metadata": {
        "colab": {
          "base_uri": "https://localhost:8080/"
        },
        "id": "PnCHhWHVo-mb",
        "outputId": "a8f87ca4-c85a-46e3-9c61-1613b8c1b773"
      },
      "execution_count": 8,
      "outputs": [
        {
          "output_type": "execute_result",
          "data": {
            "text/plain": [
              "520"
            ]
          },
          "metadata": {},
          "execution_count": 8
        }
      ]
    },
    {
      "cell_type": "code",
      "source": [
        "A * B"
      ],
      "metadata": {
        "colab": {
          "base_uri": "https://localhost:8080/"
        },
        "id": "W95xCNSkpHJj",
        "outputId": "7009100f-0540-4be8-a71d-41b16462c006"
      },
      "execution_count": 9,
      "outputs": [
        {
          "output_type": "execute_result",
          "data": {
            "text/plain": [
              "array([170, 440, 209])"
            ]
          },
          "metadata": {},
          "execution_count": 9
        }
      ]
    },
    {
      "cell_type": "code",
      "source": [
        "np.linalg.norm(A)"
      ],
      "metadata": {
        "colab": {
          "base_uri": "https://localhost:8080/"
        },
        "id": "3LpF9VIVpNeO",
        "outputId": "298f9f8d-3dcb-4226-9bd7-66e75203a339"
      },
      "execution_count": 10,
      "outputs": [
        {
          "output_type": "execute_result",
          "data": {
            "text/plain": [
              "33.67491648096547"
            ]
          },
          "metadata": {},
          "execution_count": 10
        }
      ]
    },
    {
      "cell_type": "markdown",
      "source": [
        "Mencari sudut A dan B"
      ],
      "metadata": {
        "id": "KJQpzRfTpvzg"
      }
    },
    {
      "cell_type": "code",
      "source": [
        "cos_theta = A @ B / (np.linalg.norm(A) * np.linalg.norm(B))\n",
        "cos_theta"
      ],
      "metadata": {
        "colab": {
          "base_uri": "https://localhost:8080/"
        },
        "id": "IKvRY35spSsd",
        "outputId": "8a20ddd3-0b3d-44dc-ea89-6628722625f2"
      },
      "execution_count": 11,
      "outputs": [
        {
          "output_type": "execute_result",
          "data": {
            "text/plain": [
              "0.9759590023331435"
            ]
          },
          "metadata": {},
          "execution_count": 11
        }
      ]
    },
    {
      "cell_type": "code",
      "source": [
        "rad = np.arccos(cos_theta)\n",
        "rad"
      ],
      "metadata": {
        "colab": {
          "base_uri": "https://localhost:8080/"
        },
        "id": "0W-Pd9qZpcFV",
        "outputId": "090041e6-b023-4dc4-debe-451114ae51df"
      },
      "execution_count": 13,
      "outputs": [
        {
          "output_type": "execute_result",
          "data": {
            "text/plain": [
              "0.21971776576153962"
            ]
          },
          "metadata": {},
          "execution_count": 13
        }
      ]
    },
    {
      "cell_type": "code",
      "source": [
        "degree = np.degrees(rad)\n",
        "degree"
      ],
      "metadata": {
        "colab": {
          "base_uri": "https://localhost:8080/"
        },
        "id": "MG3cn4aFph7K",
        "outputId": "34984fa6-060a-4f9f-812e-f7335e5da35f"
      },
      "execution_count": 14,
      "outputs": [
        {
          "output_type": "execute_result",
          "data": {
            "text/plain": [
              "12.588900662180242"
            ]
          },
          "metadata": {},
          "execution_count": 14
        }
      ]
    },
    {
      "cell_type": "markdown",
      "source": [
        "sudut A dan B adalah 12,5 derajat."
      ],
      "metadata": {
        "id": "5G8HjKkFpzgi"
      }
    },
    {
      "cell_type": "markdown",
      "source": [
        "# Soal 3"
      ],
      "metadata": {
        "id": "F_f0M8p4p219"
      }
    },
    {
      "cell_type": "code",
      "source": [
        "def plot_vector2d(vector2d, origin=[0, 0], **options):\n",
        "    return plt.arrow(origin[0], origin[1], vector2d[0], vector2d[1],\n",
        "              head_width=0.2, head_length=0.3, length_includes_head=True,\n",
        "              **options)"
      ],
      "metadata": {
        "id": "NP5dzIbnp9JS"
      },
      "execution_count": 15,
      "outputs": []
    },
    {
      "cell_type": "code",
      "source": [
        "u = np.array([2,5])\n",
        "v = np.array([3,1])\n",
        "\n",
        "plot_vector2d(u, color='b')\n",
        "plot_vector2d(v, color='r')\n",
        "plt.axis([0,7,0,7]) # rentang axis sumbu x dan y\n",
        "plt.axvline(0)\n",
        "plt.axhline(0)\n",
        "plt.grid()\n",
        "plt.show()"
      ],
      "metadata": {
        "colab": {
          "base_uri": "https://localhost:8080/",
          "height": 268
        },
        "id": "B_AlH7Iip-e7",
        "outputId": "15763f9b-eb2f-4a0f-81f5-ad9987a34e70"
      },
      "execution_count": 20,
      "outputs": [
        {
          "output_type": "display_data",
          "data": {
            "text/plain": [
              "<Figure size 432x288 with 1 Axes>"
            ],
            "image/png": "[encoded data removed]"
          },
          "metadata": {
            "needs_background": "light"
          }
        }
      ]
    }
  ]
}