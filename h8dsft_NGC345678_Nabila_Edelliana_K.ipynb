{
  "nbformat": 4,
  "nbformat_minor": 0,
  "metadata": {
    "colab": {
      "name": "h8dsft_NGC345678_Nabila_Edelliana_K.ipynb",
      "provenance": []
    },
    "kernelspec": {
      "name": "python3",
      "display_name": "Python 3"
    },
    "language_info": {
      "name": "python"
    }
  },
  "cells": [
    {
      "cell_type": "markdown",
      "source": [
        "# **NGC 3**"
      ],
      "metadata": {
        "id": "awza3vmoJHKf"
      }
    },
    {
      "cell_type": "code",
      "source": [
        "import numpy as np\n",
        "import matplotlib.pyplot as plt"
      ],
      "metadata": {
        "id": "20QMIq6aoIwF"
      },
      "execution_count": 2,
      "outputs": []
    },
    {
      "cell_type": "markdown",
      "source": [
        "# Soal 1."
      ],
      "metadata": {
        "id": "8ZXl4BzwoRFc"
      }
    },
    {
      "cell_type": "markdown",
      "source": [
        ""
      ],
      "metadata": {
        "id": "2BtN2qFlob2S"
      }
    },
    {
      "cell_type": "code",
      "execution_count": 3,
      "metadata": {
        "colab": {
          "base_uri": "https://localhost:8080/"
        },
        "id": "nWt73Wvwn9x_",
        "outputId": "8083f5a2-ff1e-42c5-ab0a-ee14b6e60069"
      },
      "outputs": [
        {
          "output_type": "execute_result",
          "data": {
            "text/plain": [
              "array([17, 22, 19])"
            ]
          },
          "metadata": {},
          "execution_count": 3
        }
      ],
      "source": [
        "np.array([17,22,19])"
      ]
    },
    {
      "cell_type": "markdown",
      "source": [
        "# Soal 2"
      ],
      "metadata": {
        "id": "cMZfLtzboafb"
      }
    },
    {
      "cell_type": "code",
      "source": [
        "# Mendefinisikan vektor\n",
        "A = np.array([17,22,19])\n",
        "B = np.array([10,20,11])\n",
        "C = np.array([5,12,9])\n",
        "print(A, B, C)"
      ],
      "metadata": {
        "colab": {
          "base_uri": "https://localhost:8080/"
        },
        "id": "JxVkIpaLoZ3r",
        "outputId": "16cd359b-8ff6-4dd7-ac0f-c1cd20ac977f"
      },
      "execution_count": 4,
      "outputs": [
        {
          "output_type": "stream",
          "name": "stdout",
          "text": [
            "[17 22 19] [10 20 11] [ 5 12  9]\n"
          ]
        }
      ]
    },
    {
      "cell_type": "code",
      "source": [
        "A + B"
      ],
      "metadata": {
        "colab": {
          "base_uri": "https://localhost:8080/"
        },
        "id": "7NSmtGHQo4Ni",
        "outputId": "17d68095-fb09-42ae-ea9b-4bd69678db41"
      },
      "execution_count": 5,
      "outputs": [
        {
          "output_type": "execute_result",
          "data": {
            "text/plain": [
              "array([27, 42, 30])"
            ]
          },
          "metadata": {},
          "execution_count": 5
        }
      ]
    },
    {
      "cell_type": "code",
      "source": [
        "B - C"
      ],
      "metadata": {
        "colab": {
          "base_uri": "https://localhost:8080/"
        },
        "id": "dyOeLcc4o7JK",
        "outputId": "8316df58-db0c-4a2a-fc89-0a2dedc31fb0"
      },
      "execution_count": 6,
      "outputs": [
        {
          "output_type": "execute_result",
          "data": {
            "text/plain": [
              "array([5, 8, 2])"
            ]
          },
          "metadata": {},
          "execution_count": 6
        }
      ]
    },
    {
      "cell_type": "code",
      "source": [
        "A @ C"
      ],
      "metadata": {
        "colab": {
          "base_uri": "https://localhost:8080/"
        },
        "id": "PnCHhWHVo-mb",
        "outputId": "e5a3ae15-653c-41fe-a02a-62bb585f4612"
      },
      "execution_count": 7,
      "outputs": [
        {
          "output_type": "execute_result",
          "data": {
            "text/plain": [
              "520"
            ]
          },
          "metadata": {},
          "execution_count": 7
        }
      ]
    },
    {
      "cell_type": "code",
      "source": [
        "A * B"
      ],
      "metadata": {
        "colab": {
          "base_uri": "https://localhost:8080/"
        },
        "id": "W95xCNSkpHJj",
        "outputId": "99ec5694-4203-47ef-c7d9-e55ae4ac5c4e"
      },
      "execution_count": 8,
      "outputs": [
        {
          "output_type": "execute_result",
          "data": {
            "text/plain": [
              "array([170, 440, 209])"
            ]
          },
          "metadata": {},
          "execution_count": 8
        }
      ]
    },
    {
      "cell_type": "code",
      "source": [
        "np.linalg.norm(A)"
      ],
      "metadata": {
        "colab": {
          "base_uri": "https://localhost:8080/"
        },
        "id": "3LpF9VIVpNeO",
        "outputId": "f8d01ab8-1fae-46d1-e2c3-7a4caf483a13"
      },
      "execution_count": 9,
      "outputs": [
        {
          "output_type": "execute_result",
          "data": {
            "text/plain": [
              "33.67491648096547"
            ]
          },
          "metadata": {},
          "execution_count": 9
        }
      ]
    },
    {
      "cell_type": "markdown",
      "source": [
        "Mencari sudut A dan B"
      ],
      "metadata": {
        "id": "KJQpzRfTpvzg"
      }
    },
    {
      "cell_type": "code",
      "source": [
        "cos_theta = A @ B / (np.linalg.norm(A) * np.linalg.norm(B))\n",
        "cos_theta"
      ],
      "metadata": {
        "colab": {
          "base_uri": "https://localhost:8080/"
        },
        "id": "IKvRY35spSsd",
        "outputId": "e14b8f78-3b90-4927-ca68-2fad8f0c5172"
      },
      "execution_count": 10,
      "outputs": [
        {
          "output_type": "execute_result",
          "data": {
            "text/plain": [
              "0.9759590023331435"
            ]
          },
          "metadata": {},
          "execution_count": 10
        }
      ]
    },
    {
      "cell_type": "code",
      "source": [
        "rad = np.arccos(cos_theta)\n",
        "rad"
      ],
      "metadata": {
        "colab": {
          "base_uri": "https://localhost:8080/"
        },
        "id": "0W-Pd9qZpcFV",
        "outputId": "bab3c875-0cb4-4786-a01a-4fecf42da492"
      },
      "execution_count": 11,
      "outputs": [
        {
          "output_type": "execute_result",
          "data": {
            "text/plain": [
              "0.21971776576153962"
            ]
          },
          "metadata": {},
          "execution_count": 11
        }
      ]
    },
    {
      "cell_type": "code",
      "source": [
        "degree = np.degrees(rad)\n",
        "degree"
      ],
      "metadata": {
        "colab": {
          "base_uri": "https://localhost:8080/"
        },
        "id": "MG3cn4aFph7K",
        "outputId": "5cd8a215-313a-4337-937b-2737585b4219"
      },
      "execution_count": 12,
      "outputs": [
        {
          "output_type": "execute_result",
          "data": {
            "text/plain": [
              "12.588900662180242"
            ]
          },
          "metadata": {},
          "execution_count": 12
        }
      ]
    },
    {
      "cell_type": "markdown",
      "source": [
        "sudut A dan B adalah 12,5 derajat."
      ],
      "metadata": {
        "id": "5G8HjKkFpzgi"
      }
    },
    {
      "cell_type": "markdown",
      "source": [
        "# Soal 3"
      ],
      "metadata": {
        "id": "F_f0M8p4p219"
      }
    },
    {
      "cell_type": "code",
      "source": [
        "def plot_vector2d(vector2d, origin=[0, 0], **options):\n",
        "    return plt.arrow(origin[0], origin[1], vector2d[0], vector2d[1],\n",
        "              head_width=0.2, head_length=0.3, length_includes_head=True,\n",
        "              **options)"
      ],
      "metadata": {
        "id": "NP5dzIbnp9JS"
      },
      "execution_count": 13,
      "outputs": []
    },
    {
      "cell_type": "code",
      "source": [
        "u = np.array([2,5])\n",
        "v = np.array([3,1])\n",
        "\n",
        "plot_vector2d(u, color='b')\n",
        "plot_vector2d(v, color='r')\n",
        "plt.axis([0,7,0,7]) # rentang axis sumbu x dan y\n",
        "plt.axvline(0)\n",
        "plt.axhline(0)\n",
        "plt.grid()\n",
        "plt.show()"
      ],
      "metadata": {
        "colab": {
          "base_uri": "https://localhost:8080/",
          "height": 268
        },
        "id": "B_AlH7Iip-e7",
        "outputId": "215e858e-de62-484a-9fbc-44e26398e530"
      },
      "execution_count": 14,
      "outputs": [
        {
          "output_type": "display_data",
          "data": {
            "text/plain": [
              "<Figure size 432x288 with 1 Axes>"
            ],
            "image/png": "[encoded data removed]"
          },
          "metadata": {
            "needs_background": "light"
          }
        }
      ]
    },
    {
      "cell_type": "markdown",
      "source": [
        "# **NGC 4**"
      ],
      "metadata": {
        "id": "zWlTUjVrJNVW"
      }
    },
    {
      "cell_type": "markdown",
      "source": [
        "# Soal 1"
      ],
      "metadata": {
        "id": "xG1xn_wpJoE4"
      }
    },
    {
      "cell_type": "code",
      "source": [
        "M1 = np.array([[23,50],\n",
        "               [7,12]])\n",
        "M2 = np.array([[75,21],\n",
        "               [57,12]])\n",
        "M3 = np.array([[57,67],\n",
        "               [99,43]])\n",
        "M4 = np.array([[87,26],\n",
        "               [18,84]])"
      ],
      "metadata": {
        "id": "h5x8PmCWJQL9"
      },
      "execution_count": 15,
      "outputs": []
    },
    {
      "cell_type": "code",
      "source": [
        "T = np.array([M1, M2, M3, M4])\n",
        "T"
      ],
      "metadata": {
        "colab": {
          "base_uri": "https://localhost:8080/"
        },
        "id": "uHqJ_UsbK9KX",
        "outputId": "7faaced6-388a-4b12-be29-f4e1dbc59a70"
      },
      "execution_count": 20,
      "outputs": [
        {
          "output_type": "execute_result",
          "data": {
            "text/plain": [
              "array([[[23, 50],\n",
              "        [ 7, 12]],\n",
              "\n",
              "       [[75, 21],\n",
              "        [57, 12]],\n",
              "\n",
              "       [[57, 67],\n",
              "        [99, 43]],\n",
              "\n",
              "       [[87, 26],\n",
              "        [18, 84]]])"
            ]
          },
          "metadata": {},
          "execution_count": 20
        }
      ]
    },
    {
      "cell_type": "markdown",
      "source": [
        "# Soal 2"
      ],
      "metadata": {
        "id": "qxbrMtpDMMaB"
      }
    },
    {
      "cell_type": "code",
      "source": [
        "A = np.array([[23,50,19],\n",
        "              [7,12,109],\n",
        "              [57,67,98]])\n",
        "A"
      ],
      "metadata": {
        "colab": {
          "base_uri": "https://localhost:8080/"
        },
        "id": "6PAc-K0kLWGf",
        "outputId": "e0504652-e8b0-450a-e0b4-b842a1a63e50"
      },
      "execution_count": 21,
      "outputs": [
        {
          "output_type": "execute_result",
          "data": {
            "text/plain": [
              "array([[ 23,  50,  19],\n",
              "       [  7,  12, 109],\n",
              "       [ 57,  67,  98]])"
            ]
          },
          "metadata": {},
          "execution_count": 21
        }
      ]
    },
    {
      "cell_type": "code",
      "source": [
        "B = np.array([17,22,19])\n",
        "B"
      ],
      "metadata": {
        "colab": {
          "base_uri": "https://localhost:8080/"
        },
        "id": "2xb7QTplLq_T",
        "outputId": "28fed6c1-2774-4b2e-eb74-728141e30475"
      },
      "execution_count": 23,
      "outputs": [
        {
          "output_type": "execute_result",
          "data": {
            "text/plain": [
              "array([17, 22, 19])"
            ]
          },
          "metadata": {},
          "execution_count": 23
        }
      ]
    },
    {
      "cell_type": "code",
      "source": [
        "A @ B"
      ],
      "metadata": {
        "colab": {
          "base_uri": "https://localhost:8080/"
        },
        "id": "gMPyMKK0L2Fu",
        "outputId": "69152e7b-7cad-4b57-83b3-151c3f665d6f"
      },
      "execution_count": 24,
      "outputs": [
        {
          "output_type": "execute_result",
          "data": {
            "text/plain": [
              "array([1852, 2454, 4305])"
            ]
          },
          "metadata": {},
          "execution_count": 24
        }
      ]
    },
    {
      "cell_type": "markdown",
      "source": [
        "# Soal 3"
      ],
      "metadata": {
        "id": "K4cntxDoMYJH"
      }
    },
    {
      "cell_type": "code",
      "source": [
        "A"
      ],
      "metadata": {
        "colab": {
          "base_uri": "https://localhost:8080/"
        },
        "id": "voN5hzA1MO34",
        "outputId": "a0167833-135b-426e-b741-e259a3dbee15"
      },
      "execution_count": 25,
      "outputs": [
        {
          "output_type": "execute_result",
          "data": {
            "text/plain": [
              "array([[ 23,  50,  19],\n",
              "       [  7,  12, 109],\n",
              "       [ 57,  67,  98]])"
            ]
          },
          "metadata": {},
          "execution_count": 25
        }
      ]
    },
    {
      "cell_type": "code",
      "source": [
        "A.T"
      ],
      "metadata": {
        "colab": {
          "base_uri": "https://localhost:8080/"
        },
        "id": "Y9C9IBPRMS7H",
        "outputId": "81c8c5bc-f4a5-478a-d0e2-4bb46692919d"
      },
      "execution_count": 26,
      "outputs": [
        {
          "output_type": "execute_result",
          "data": {
            "text/plain": [
              "array([[ 23,   7,  57],\n",
              "       [ 50,  12,  67],\n",
              "       [ 19, 109,  98]])"
            ]
          },
          "metadata": {},
          "execution_count": 26
        }
      ]
    },
    {
      "cell_type": "markdown",
      "source": [
        "# **NGC 5**"
      ],
      "metadata": {
        "id": "qghhQ5qaMd_h"
      }
    },
    {
      "cell_type": "markdown",
      "source": [
        "# Soal :"
      ],
      "metadata": {
        "id": "FUG1AbEcMgv5"
      }
    },
    {
      "cell_type": "code",
      "source": [
        "U = np.array([[1,-1],\n",
        "               [6,4]])\n",
        "U"
      ],
      "metadata": {
        "colab": {
          "base_uri": "https://localhost:8080/"
        },
        "id": "_2mx5UdxMik5",
        "outputId": "44095e9c-4173-408e-98e1-e21bbc23ac21"
      },
      "execution_count": 27,
      "outputs": [
        {
          "output_type": "execute_result",
          "data": {
            "text/plain": [
              "array([[ 1, -1],\n",
              "       [ 6,  4]])"
            ]
          },
          "metadata": {},
          "execution_count": 27
        }
      ]
    },
    {
      "cell_type": "code",
      "source": [
        "V = np.array([1,3])\n",
        "V"
      ],
      "metadata": {
        "colab": {
          "base_uri": "https://localhost:8080/"
        },
        "id": "sY1s7lOhPOk-",
        "outputId": "bf4e0e0a-6a11-40bf-ffe4-e730cbab3cab"
      },
      "execution_count": 33,
      "outputs": [
        {
          "output_type": "execute_result",
          "data": {
            "text/plain": [
              "array([1, 3])"
            ]
          },
          "metadata": {},
          "execution_count": 33
        }
      ]
    },
    {
      "cell_type": "code",
      "source": [
        "U @ V"
      ],
      "metadata": {
        "colab": {
          "base_uri": "https://localhost:8080/"
        },
        "id": "zy6c9R0yPTT_",
        "outputId": "5bd1d9cf-1f93-43df-e2f0-95facf325c54"
      },
      "execution_count": 35,
      "outputs": [
        {
          "output_type": "execute_result",
          "data": {
            "text/plain": [
              "array([-2, 18])"
            ]
          },
          "metadata": {},
          "execution_count": 35
        }
      ]
    },
    {
      "cell_type": "code",
      "source": [
        "eig_val, eig_vec = np.linalg.eig(U)"
      ],
      "metadata": {
        "id": "AZCEOoHhM-Je"
      },
      "execution_count": 28,
      "outputs": []
    },
    {
      "cell_type": "code",
      "source": [
        "eig_val"
      ],
      "metadata": {
        "colab": {
          "base_uri": "https://localhost:8080/"
        },
        "id": "h9f_Yr9lNB3W",
        "outputId": "09af94c1-27c6-4bed-b08b-21be9a1a5f87"
      },
      "execution_count": 29,
      "outputs": [
        {
          "output_type": "execute_result",
          "data": {
            "text/plain": [
              "array([2.5+1.93649167j, 2.5-1.93649167j])"
            ]
          },
          "metadata": {},
          "execution_count": 29
        }
      ]
    },
    {
      "cell_type": "code",
      "source": [
        "eig_vec"
      ],
      "metadata": {
        "colab": {
          "base_uri": "https://localhost:8080/"
        },
        "id": "3UtvR26eNDe9",
        "outputId": "382ab894-069f-4d59-ade7-5b488fc8a5d9"
      },
      "execution_count": 30,
      "outputs": [
        {
          "output_type": "execute_result",
          "data": {
            "text/plain": [
              "array([[-0.23145502+0.29880715j, -0.23145502-0.29880715j],\n",
              "       [ 0.9258201 +0.j        ,  0.9258201 -0.j        ]])"
            ]
          },
          "metadata": {},
          "execution_count": 30
        }
      ]
    },
    {
      "cell_type": "markdown",
      "source": [
        "vektor V bukan merupakan eigenvector dari U"
      ],
      "metadata": {
        "id": "U8uJKiCLPIp4"
      }
    },
    {
      "cell_type": "markdown",
      "source": [
        "# **NGC 6**"
      ],
      "metadata": {
        "id": "SoXHxxM7Q_xW"
      }
    },
    {
      "cell_type": "code",
      "source": [
        "import sympy as sy # sympy adl symbolic python u/ operasi yg symbolic spt fungsi"
      ],
      "metadata": {
        "id": "k76ZQ6QURDa3"
      },
      "execution_count": 37,
      "outputs": []
    },
    {
      "cell_type": "markdown",
      "source": [
        "Turunan fungsi 𝑦=𝑥2+2𝑥+1"
      ],
      "metadata": {
        "id": "0O95fe1MRmNJ"
      }
    },
    {
      "cell_type": "code",
      "source": [
        "x = sy.Symbol('x')\n",
        "x"
      ],
      "metadata": {
        "colab": {
          "base_uri": "https://localhost:8080/",
          "height": 38
        },
        "id": "3dYqm_J5RWIK",
        "outputId": "603d3fc8-5405-4378-f494-44579bd39adc"
      },
      "execution_count": 38,
      "outputs": [
        {
          "output_type": "execute_result",
          "data": {
            "text/plain": [
              "x"
            ],
            "text/latex": "$\\displaystyle x$"
          },
          "metadata": {},
          "execution_count": 38
        }
      ]
    },
    {
      "cell_type": "code",
      "source": [
        "f = x**2 + 2*x + 1\n",
        "f"
      ],
      "metadata": {
        "colab": {
          "base_uri": "https://localhost:8080/",
          "height": 38
        },
        "id": "14-AsyjMRgI4",
        "outputId": "b36e5a42-650e-46b0-c169-db46c7052187"
      },
      "execution_count": 40,
      "outputs": [
        {
          "output_type": "execute_result",
          "data": {
            "text/plain": [
              "x**2 + 2*x + 1"
            ],
            "text/latex": "$\\displaystyle x^{2} + 2 x + 1$"
          },
          "metadata": {},
          "execution_count": 40
        }
      ]
    },
    {
      "cell_type": "code",
      "source": [
        "f.diff()"
      ],
      "metadata": {
        "colab": {
          "base_uri": "https://localhost:8080/",
          "height": 38
        },
        "id": "EBZ22hx8R2qp",
        "outputId": "a79702fb-67ea-4925-f447-4fb0696236b0"
      },
      "execution_count": 41,
      "outputs": [
        {
          "output_type": "execute_result",
          "data": {
            "text/plain": [
              "2*x + 2"
            ],
            "text/latex": "$\\displaystyle 2 x + 2$"
          },
          "metadata": {},
          "execution_count": 41
        }
      ]
    },
    {
      "cell_type": "markdown",
      "source": [
        "Turunan fungsi 4𝑥3−3𝑥2+2𝑥−1\n"
      ],
      "metadata": {
        "id": "ghy0y-AgSBEh"
      }
    },
    {
      "cell_type": "code",
      "source": [
        "g = 4*x**3 - 3*x**2 + 2*x - 1\n",
        "g"
      ],
      "metadata": {
        "colab": {
          "base_uri": "https://localhost:8080/",
          "height": 38
        },
        "id": "a65UYswcR9dw",
        "outputId": "d03405bf-90b5-4cf5-831c-3470f77a9b0d"
      },
      "execution_count": 42,
      "outputs": [
        {
          "output_type": "execute_result",
          "data": {
            "text/plain": [
              "4*x**3 - 3*x**2 + 2*x - 1"
            ],
            "text/latex": "$\\displaystyle 4 x^{3} - 3 x^{2} + 2 x - 1$"
          },
          "metadata": {},
          "execution_count": 42
        }
      ]
    },
    {
      "cell_type": "code",
      "source": [
        "g.diff()"
      ],
      "metadata": {
        "colab": {
          "base_uri": "https://localhost:8080/",
          "height": 38
        },
        "id": "GcjxMnFFSOsB",
        "outputId": "ff67411a-55e6-43f6-902d-bc64e2b410ac"
      },
      "execution_count": 43,
      "outputs": [
        {
          "output_type": "execute_result",
          "data": {
            "text/plain": [
              "12*x**2 - 6*x + 2"
            ],
            "text/latex": "$\\displaystyle 12 x^{2} - 6 x + 2$"
          },
          "metadata": {},
          "execution_count": 43
        }
      ]
    },
    {
      "cell_type": "markdown",
      "source": [
        "# **NGC 7**"
      ],
      "metadata": {
        "id": "9CfEV-hnSUpi"
      }
    },
    {
      "cell_type": "markdown",
      "source": [
        "Carilah Gradient dari sebuah fungsi berikut : 3𝑥+4𝑦=5\n"
      ],
      "metadata": {
        "id": "kuwt3G7RSZRR"
      }
    },
    {
      "cell_type": "code",
      "source": [
        "x,y = sy.symbols('x y')\n",
        "h = 3*x + 4*y - 5\n",
        "h"
      ],
      "metadata": {
        "colab": {
          "base_uri": "https://localhost:8080/",
          "height": 38
        },
        "id": "knHu_gJ-Se6N",
        "outputId": "fb13987d-da32-41d6-8ff6-063270d1444d"
      },
      "execution_count": 44,
      "outputs": [
        {
          "output_type": "execute_result",
          "data": {
            "text/plain": [
              "3*x + 4*y - 5"
            ],
            "text/latex": "$\\displaystyle 3 x + 4 y - 5$"
          },
          "metadata": {},
          "execution_count": 44
        }
      ]
    },
    {
      "cell_type": "code",
      "source": [
        "from sympy.tensor.array import derive_by_array\n",
        "grd = derive_by_array(h, (x,y))\n",
        "grd"
      ],
      "metadata": {
        "colab": {
          "base_uri": "https://localhost:8080/",
          "height": 38
        },
        "id": "nFCxj7XPS6gl",
        "outputId": "1b5c2f47-ab18-43a7-8942-9fd095172cbd"
      },
      "execution_count": 45,
      "outputs": [
        {
          "output_type": "execute_result",
          "data": {
            "text/plain": [
              "[3, 4]"
            ],
            "text/latex": "$\\displaystyle \\left[\\begin{matrix}3 & 4\\end{matrix}\\right]$"
          },
          "metadata": {},
          "execution_count": 45
        }
      ]
    },
    {
      "cell_type": "markdown",
      "source": [
        "# **NGC 8**"
      ],
      "metadata": {
        "id": "kj4u1AIOTKoe"
      }
    },
    {
      "cell_type": "code",
      "source": [
        "x = sy.Symbol('x')\n",
        "x"
      ],
      "metadata": {
        "id": "WDEzezapTcy2"
      },
      "execution_count": null,
      "outputs": []
    },
    {
      "cell_type": "markdown",
      "source": [
        "Mencari Integral Fungsi 1."
      ],
      "metadata": {
        "id": "w7yf-5EGTSlg"
      }
    },
    {
      "cell_type": "code",
      "source": [
        "f1 = 3*x**2 - 6*x + 3\n",
        "f1"
      ],
      "metadata": {
        "colab": {
          "base_uri": "https://localhost:8080/",
          "height": 38
        },
        "id": "Nui6SE-QTYeO",
        "outputId": "3a14ee38-a845-431c-a7c5-907615213f73"
      },
      "execution_count": 46,
      "outputs": [
        {
          "output_type": "execute_result",
          "data": {
            "text/plain": [
              "3*x**2 - 6*x + 3"
            ],
            "text/latex": "$\\displaystyle 3 x^{2} - 6 x + 3$"
          },
          "metadata": {},
          "execution_count": 46
        }
      ]
    },
    {
      "cell_type": "code",
      "source": [
        "sy.integrate(f1)"
      ],
      "metadata": {
        "colab": {
          "base_uri": "https://localhost:8080/",
          "height": 38
        },
        "id": "OdxZrrilT0lr",
        "outputId": "0c2d77f7-6b1c-492e-c07e-1e8a29da9b58"
      },
      "execution_count": 47,
      "outputs": [
        {
          "output_type": "execute_result",
          "data": {
            "text/plain": [
              "x**3 - 3*x**2 + 3*x"
            ],
            "text/latex": "$\\displaystyle x^{3} - 3 x^{2} + 3 x$"
          },
          "metadata": {},
          "execution_count": 47
        }
      ]
    },
    {
      "cell_type": "markdown",
      "source": [
        "hasilnya ditambah lagi dengan konstanta C"
      ],
      "metadata": {
        "id": "0kynoNQ4T5VU"
      }
    },
    {
      "cell_type": "markdown",
      "source": [
        "Mencari Integral Fungsi 2."
      ],
      "metadata": {
        "id": "CaqFM4mIUDiW"
      }
    },
    {
      "cell_type": "code",
      "source": [
        "f2 = 8*x**3 - x**2 + 5*x - 1\n",
        "f2"
      ],
      "metadata": {
        "colab": {
          "base_uri": "https://localhost:8080/",
          "height": 38
        },
        "id": "R4OPrleAUC6v",
        "outputId": "951e525a-7882-4278-b87b-f1f98f957ad2"
      },
      "execution_count": 48,
      "outputs": [
        {
          "output_type": "execute_result",
          "data": {
            "text/plain": [
              "8*x**3 - x**2 + 5*x - 1"
            ],
            "text/latex": "$\\displaystyle 8 x^{3} - x^{2} + 5 x - 1$"
          },
          "metadata": {},
          "execution_count": 48
        }
      ]
    },
    {
      "cell_type": "code",
      "source": [
        "sy.integrate(f2)"
      ],
      "metadata": {
        "colab": {
          "base_uri": "https://localhost:8080/",
          "height": 53
        },
        "id": "KF6VvY1oUcR-",
        "outputId": "f6d8ef74-8dc0-4d5b-d5cf-b63a0b15a0c6"
      },
      "execution_count": 49,
      "outputs": [
        {
          "output_type": "execute_result",
          "data": {
            "text/plain": [
              "2*x**4 - x**3/3 + 5*x**2/2 - x"
            ],
            "text/latex": "$\\displaystyle 2 x^{4} - \\frac{x^{3}}{3} + \\frac{5 x^{2}}{2} - x$"
          },
          "metadata": {},
          "execution_count": 49
        }
      ]
    }
  ]
}